{
  "cells": [
    {
      "cell_type": "markdown",
      "metadata": {
        "id": "view-in-github",
        "colab_type": "text"
      },
      "source": [
        "<a href=\"https://colab.research.google.com/github/isys5002-itp/isys5002-2023-semester2/blob/main/Mandeep_04_1_input_validation.ipynb\" target=\"_parent\"><img src=\"https://colab.research.google.com/assets/colab-badge.svg\" alt=\"Open In Colab\"/></a>"
      ]
    },
    {
      "cell_type": "markdown",
      "id": "b5835b0c",
      "metadata": {
        "id": "b5835b0c"
      },
      "source": [
        "# Input Validation\n",
        "\n",
        "Input validation code verifies that user supplied data, such as text from the input() function, is formatted appropriately.\n",
        "\n",
        "* try/except\n",
        "* isdigit()\n",
        "* pyinputplus\n"
      ]
    },
    {
      "cell_type": "markdown",
      "source": [
        "## try/except\n",
        "`try/except` is a control structure in Python that is used for exception handling. It allows you to handle errors or exceptions that may occur during the execution of a block of code, so that the program can recover from the error and continue running, instead of crashing.\n",
        "\n",
        "The `try` block is used to *enclose the code that might raise an exception or an error*. If an exception occurs within the `try` block, the program jumps to the `except` block, and executes the code within it, which is designed to handle the exception.\n",
        "\n",
        "Here's the basic syntax for a `try/except` block:\n",
        "\n",
        "\n",
        "```\n",
        "try:\n",
        "    # code that may raise an exception\n",
        "except ExceptionType:\n",
        "    # code to handle the exception\n",
        "```\n",
        "\n",
        "In this example, `ExceptionType` refers to the type of exception that may be raised by the code within the `try` block. When an exception of that type occurs, the program jumps to the `except` block and executes the code within it.\n",
        "\n",
        "If an exception occurs that is not of the specified type, it will not be handled by the `except` block, and the program will terminate with an error message.\n",
        "\n",
        "`try/except` blocks can have multiple `except` blocks to handle different types of exceptions that may occur. It can also have an optional `else` block that is executed if no exceptions are raised within the `try` block.\n"
      ],
      "metadata": {
        "id": "WRX-iQ-hIwbJ"
      },
      "id": "WRX-iQ-hIwbJ"
    },
    {
      "cell_type": "markdown",
      "source": [
        "### Use `try/except` to handle an error that may occur when converting a user's input to an integer:"
      ],
      "metadata": {
        "id": "BgQWp7RRJMLk"
      },
      "id": "BgQWp7RRJMLk"
    },
    {
      "cell_type": "code",
      "source": [
        "try:\n",
        "  a=input(\"enter your age\")\n",
        "  age=int(a)\n",
        "except ValueError:\n",
        "  print(\"invalid entry\")\n",
        "\n"
      ],
      "metadata": {
        "id": "CuiSM1VmTYvW",
        "outputId": "f2833371-a96f-4d9a-bba7-978b65ed450f",
        "colab": {
          "base_uri": "https://localhost:8080/"
        }
      },
      "id": "CuiSM1VmTYvW",
      "execution_count": 15,
      "outputs": [
        {
          "output_type": "stream",
          "name": "stdout",
          "text": [
            "enter your aged\n",
            "invalid entry\n"
          ]
        }
      ]
    },
    {
      "cell_type": "code",
      "source": [
        "try:\n",
        "  x=input(\"a number\")\n",
        "  x=int(x)\n",
        "  print(x)\n",
        "except:\n",
        "  print(\"An exception occurred\")"
      ],
      "metadata": {
        "id": "xNk6t8Nomfj5",
        "outputId": "d8573fc4-9107-4a49-d4b8-e58d81086a15",
        "colab": {
          "base_uri": "https://localhost:8080/"
        }
      },
      "id": "xNk6t8Nomfj5",
      "execution_count": 18,
      "outputs": [
        {
          "output_type": "stream",
          "name": "stdout",
          "text": [
            "a number5\n",
            "5\n"
          ]
        }
      ]
    },
    {
      "cell_type": "markdown",
      "source": [
        "In this example, the try block contains the code that attempts to convert the user's input to an integer using the int() function. If the user enters a string that cannot be converted to an integer, a ValueError exception is raised.\n",
        "\n",
        "The except block that follows the try block handles the ValueError exception, and prints an error message asking the user to enter a whole number for their age.\n",
        "\n",
        "Using try/except in this way ensures that the program doesn't crash if the user enters invalid input. Instead, it catches the error and executes the code in the except block to handle the error."
      ],
      "metadata": {
        "id": "xKZCTdx-JXva"
      },
      "id": "xKZCTdx-JXva"
    },
    {
      "cell_type": "markdown",
      "source": [
        "### Use a `while` loop to keep prompting the user to enter their age until they enter a valid integer:"
      ],
      "metadata": {
        "id": "V0ivzQuuLz9H"
      },
      "id": "V0ivzQuuLz9H"
    },
    {
      "cell_type": "code",
      "source": [
        "age=0\n",
        "while age==0:\n",
        "  try:\n",
        "    a=input(\"enter your age\")\n",
        "    age=int(a)\n",
        "    print(age)\n",
        "  except ValueError:\n",
        "            print(\"invalid entry\")\n",
        "\n",
        ""
      ],
      "metadata": {
        "id": "PaBvbJcbLDgu",
        "outputId": "ee45cc3f-bd04-4504-df7f-64cf8f700a48",
        "colab": {
          "base_uri": "https://localhost:8080/"
        }
      },
      "id": "PaBvbJcbLDgu",
      "execution_count": 33,
      "outputs": [
        {
          "output_type": "stream",
          "name": "stdout",
          "text": [
            "enter your age54\n",
            "54\n"
          ]
        }
      ]
    },
    {
      "cell_type": "code",
      "source": [
        "#age=0\n",
        "while True:\n",
        "  try:\n",
        "    a=input(\"enter your age\")\n",
        "    age=int(a)\n",
        "  #  print(str(age))\n",
        "    break\n",
        "  except ValueError:\n",
        "            print(\"invalid entry\")\n",
        "\n",
        "print(\"your age is\"+ str(age))\n",
        "\n"
      ],
      "metadata": {
        "id": "DVFLqAJkpGqC",
        "outputId": "313626e0-9f81-4ff1-a303-b56070439d03",
        "colab": {
          "base_uri": "https://localhost:8080/"
        }
      },
      "id": "DVFLqAJkpGqC",
      "execution_count": 49,
      "outputs": [
        {
          "output_type": "stream",
          "name": "stdout",
          "text": [
            "enter your age33\n",
            "your age is33\n"
          ]
        }
      ]
    },
    {
      "cell_type": "markdown",
      "id": "acc7252b",
      "metadata": {
        "id": "acc7252b"
      },
      "source": [
        "## isdigit()\n",
        "\n",
        "In Python, `isdigit()` is a method that can be called on a string object to check if all characters in the string are digits.\n",
        "\n",
        "It returns `True` if all characters in the string are digits and there is at least one character in the string, otherwise it returns False.\n",
        "\n",
        "`isdigit()` is often used to validate user input for numeric values, like checking if the user entered an integer or a floating-point number. For example, if you expect the user to enter their age as an integer, you could use `isdigit()` to ensure that the input only contains digits before converting it to an integer.\n",
        "\n",
        "### Use `isdigit()` to validate user input for an integer:"
      ]
    },
    {
      "cell_type": "code",
      "execution_count": 81,
      "id": "5f98c241",
      "metadata": {
        "id": "5f98c241",
        "outputId": "7d17d9ab-d9c0-407f-afc0-15c6f81178f4",
        "colab": {
          "base_uri": "https://localhost:8080/"
        }
      },
      "outputs": [
        {
          "name": "stdout",
          "output_type": "stream",
          "text": [
            "enter your agejhj\n"
          ]
        }
      ],
      "source": [
        "while True:\n",
        "\n",
        "    a=input('enter your age')\n",
        "    if  age==a.isdigit():\n",
        "          #age=int(a)\n",
        "          print((age))\n",
        "    break\n",
        "else:\n",
        "        print('enter valid response')\n",
        "\n",
        "\n"
      ]
    },
    {
      "cell_type": "markdown",
      "id": "18c00dc3",
      "metadata": {
        "id": "18c00dc3"
      },
      "source": [
        "## Module: PyInputPlus\n",
        "\n",
        "`pyinputplus` is a Python module that provides input validation functions to simplify the process of getting user input from the command line. It can handle various types of input validation, such as integers, floating-point numbers, dates and times, email addresses, and more. It also provides more robust error handling than the built-in `input()` function in Python."
      ]
    },
    {
      "cell_type": "code",
      "execution_count": 85,
      "id": "dfe1740b",
      "metadata": {
        "id": "dfe1740b",
        "outputId": "b3c0686b-d343-488e-f7f9-f27000c93157",
        "colab": {
          "base_uri": "https://localhost:8080/"
        }
      },
      "outputs": [
        {
          "output_type": "stream",
          "name": "stdout",
          "text": [
            "Requirement already satisfied: PyInputPlus in /usr/local/lib/python3.10/dist-packages (0.2.12)\n",
            "Requirement already satisfied: pysimplevalidate>=0.2.7 in /usr/local/lib/python3.10/dist-packages (from PyInputPlus) (0.2.12)\n",
            "Requirement already satisfied: stdiomask>=0.0.3 in /usr/local/lib/python3.10/dist-packages (from PyInputPlus) (0.0.6)\n"
          ]
        }
      ],
      "source": [
        "# install the module\n",
        "!pip install PyInputPlus\n",
        "import pyinputplus as py"
      ]
    },
    {
      "cell_type": "code",
      "execution_count": 86,
      "id": "9a52f49e",
      "metadata": {
        "id": "9a52f49e"
      },
      "outputs": [],
      "source": [
        "import pyinputplus as py\n",
        "\n"
      ]
    },
    {
      "cell_type": "code",
      "execution_count": 91,
      "id": "28ee4733",
      "metadata": {
        "id": "28ee4733",
        "outputId": "8d2ad37c-cf4a-4b15-8683-42da47da2ae2",
        "colab": {
          "base_uri": "https://localhost:8080/"
        }
      },
      "outputs": [
        {
          "output_type": "stream",
          "name": "stdout",
          "text": [
            "enter age0\n",
            "your age is  0\n"
          ]
        }
      ],
      "source": [
        "response=py.inputInt(\"enter age\")\n",
        "print(\"your age is \",response)\n"
      ]
    }
  ],
  "metadata": {
    "kernelspec": {
      "display_name": "Python 3 (ipykernel)",
      "language": "python",
      "name": "python3"
    },
    "language_info": {
      "codemirror_mode": {
        "name": "ipython",
        "version": 3
      },
      "file_extension": ".py",
      "mimetype": "text/x-python",
      "name": "python",
      "nbconvert_exporter": "python",
      "pygments_lexer": "ipython3",
      "version": "3.9.7"
    },
    "colab": {
      "provenance": [],
      "include_colab_link": true
    }
  },
  "nbformat": 4,
  "nbformat_minor": 5
}