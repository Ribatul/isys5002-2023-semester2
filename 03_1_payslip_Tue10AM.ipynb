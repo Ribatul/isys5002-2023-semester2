{
  "cells": [
    {
      "cell_type": "markdown",
      "metadata": {
        "id": "view-in-github",
        "colab_type": "text"
      },
      "source": [
        "<a href=\"https://colab.research.google.com/github/isys5002-itp/isys5002-2023-semester2/blob/main/03_1_payslip_Tue10AM.ipynb\" target=\"_parent\"><img src=\"https://colab.research.google.com/assets/colab-badge.svg\" alt=\"Open In Colab\"/></a>"
      ]
    },
    {
      "cell_type": "markdown",
      "metadata": {
        "id": "kF8ldRydTDPx"
      },
      "source": [
        "# Payslip\n",
        "\n",
        "A payslip is a document that shows their total wages earned for a set period.\n",
        "This might be from a salary, hourly wages or commission. Payslips are also know as ‘pay advice’.  Traditionally the payslip was a paper document attached. Today\n",
        "most organisations provide them electronically.\n",
        "\n",
        "## Task 0 - Import into GitHub\n",
        "First, import the notebook into Colab and save an initial copy to GitHub.\n",
        "\n",
        "## Task 1 - Start Simple\n",
        "\n",
        "Writing complete robust programs can take time.  Often the more we understand a problem the easier it is to implement the solution.   One approach is to implement the simplest version of a program and then slowly add functionality.\n",
        "\n",
        "This notebook aims to start simple and slowly build up the program.\n",
        "The approach we take below is one way to understand a problem, step 1 of our development process. Complex projects, often follow a similar idea\n",
        "where they implement a minimal program, and each week or month has intense periods where the team adds functionality.  These advanced methodologies are beyond the scope of an introductory programming course but by starting small and slowly adding functionality we do capture the essence of the process.\n",
        "\n",
        "\n",
        "### The Initial (minimal) Program\n",
        "\n",
        "Consider 'Ram' who has a salary of \\$25,000.  They have sold goods worth $20,000 and earn a 2% commission on the sales. They fall into the 10% tax bracket. We will talk about tax brackets in another notebook. Before making payments the organisation needs to deduct 10% tax.\n",
        "\n",
        "We need to program to print out a payslip for salespeople. Our payslip\n",
        "is very simple, we need a title, the amount of salary, the amount of commission, the amount of tax, and the total pay.\n",
        "\n",
        "Run the following program for one person."
      ]
    },
    {
      "cell_type": "code",
      "execution_count": 5,
      "metadata": {
        "id": "2UenEHfcTuLz",
        "colab": {
          "base_uri": "https://localhost:8080/",
          "height": 0
        },
        "outputId": "217cced0-c0b1-4e9d-e008-56937e125047"
      },
      "outputs": [
        {
          "output_type": "stream",
          "name": "stdout",
          "text": [
            "=== Payslip of Ram ===\n",
            "Salary:     25000 \n",
            "Commission: 400.0 \n",
            "Tax:        2540.0\n",
            "Total pay:  22860.0\n"
          ]
        }
      ],
      "source": [
        "# assign values for salary and sales\n",
        "\n",
        "salary = 25000\n",
        "sales = 20000\n",
        "\n",
        "# calculate the commision\n",
        "commission = (0.02) * sales\n",
        "\n",
        "# calculate the tax\n",
        "tax = (salary + commission) * 0.10\n",
        "\n",
        "# calculate the pay\n",
        "pay = salary + commission - tax\n",
        "\n",
        "# print the payslip\n",
        "print('=== Payslip of Ram ===')\n",
        "# print(\"Salary: \" , salary, \" \\nCommission: \", commission, \" \\nTax: \", tax)\n",
        "print(f\"Salary: {salary:9} \\nCommission: {commission:} \\nTax: {tax:13}\")\n",
        "print(f\"Total pay: {pay:8}\")\n"
      ]
    },
    {
      "cell_type": "markdown",
      "metadata": {
        "id": "QzcJGzRBUDz2"
      },
      "source": [
        "Now, consider 'Radha' who has a salary of \\$30,000.  They have sold goods worth $40,000 and earns 2.5% commision on the sales. They fall into the 10% tax bracket and so before making payments we need to deduct 10% form their total payout."
      ]
    },
    {
      "cell_type": "code",
      "execution_count": 6,
      "metadata": {
        "id": "wFmuD9ujUgDW",
        "colab": {
          "base_uri": "https://localhost:8080/",
          "height": 0
        },
        "outputId": "c877f5c5-307e-4ae9-bfd2-28cf8f785155"
      },
      "outputs": [
        {
          "output_type": "stream",
          "name": "stdout",
          "text": [
            "=== Payslip of Radha ===\n",
            "Salary:     30000 \n",
            "Commission: 1000.0 \n",
            "Tax:        3100.0\n",
            "Total pay:  27900.0\n"
          ]
        }
      ],
      "source": [
        "# assign values for salary and sales\n",
        "\n",
        "salary = 30000\n",
        "sales = 40000\n",
        "\n",
        "# calculate the commision\n",
        "commission = (0.025) * sales\n",
        "\n",
        "# calculate the tax\n",
        "tax = (salary + commission) * 0.10\n",
        "\n",
        "# calculate the pay\n",
        "pay = salary + commission - tax\n",
        "\n",
        "# print the payslip\n",
        "print('=== Payslip of Radha ===')\n",
        "print(f\"Salary: {salary:9} \\nCommission: {commission:} \\nTax: {tax:13}\")\n",
        "print(f\"Total pay: {pay:8}\")"
      ]
    },
    {
      "cell_type": "markdown",
      "metadata": {
        "id": "UFGObxq7UlvE"
      },
      "source": [
        "## Task 2 - Generalise\n",
        "\n",
        "What details did we change from Ram to Radha?\n",
        "- name\n",
        "- salary\n",
        "- sales\n",
        "- commission"
      ]
    },
    {
      "cell_type": "code",
      "execution_count": 9,
      "metadata": {
        "id": "zMEi9q1dUr36",
        "colab": {
          "base_uri": "https://localhost:8080/",
          "height": 0
        },
        "outputId": "d33d83fa-ef48-4bc3-9d2e-598fc052a34b"
      },
      "outputs": [
        {
          "output_type": "stream",
          "name": "stdout",
          "text": [
            "Enter sales person name: Radha\n",
            "Enter salary: 30000\n",
            "Enter sales amount: 40000\n",
            "Enter commission rate: 2.5\n",
            "=== Payslip of Radha ===\n",
            "Salary:    30000.0 \n",
            "Commission: 1000.0 \n",
            "Tax:        3100.0\n",
            "Total pay:  27900.0\n"
          ]
        }
      ],
      "source": [
        "# get values for name, salary and sales from user\n",
        "\n",
        "name = input(\"Enter sales person name: \")\n",
        "salary = float(input(\"Enter salary: \"))\n",
        "sales = float(input(\"Enter sales amount: \"))\n",
        "comm = float(input(\"Enter commission rate: \"))\n",
        "\n",
        "# calculate the commision\n",
        "commission = (comm/100) * sales\n",
        "# calculate the tax\n",
        "tax = (salary + commission) * 0.10\n",
        "# calculate the pay\n",
        "pay = salary + commission - tax\n",
        "\n",
        "# print the payslip\n",
        "print(f'=== Payslip of {name} ===')\n",
        "print(f\"Salary: {salary:10} \\nCommission: {commission:} \\nTax: {tax:13}\")\n",
        "print(f\"Total pay: {pay:8}\")"
      ]
    },
    {
      "cell_type": "markdown",
      "metadata": {
        "id": "7PrlmDmYV6iX"
      },
      "source": [
        "Make what we changed as inputs (parameters) to a function\n",
        "\n",
        "Create function to calculate pay"
      ]
    },
    {
      "cell_type": "code",
      "execution_count": 11,
      "metadata": {
        "id": "cJwgf8nZWDF6"
      },
      "outputs": [],
      "source": [
        "def calculate_pay(salary, sales, comm): # the function takes in three parameters\n",
        "  # calculate the commision\n",
        "  commission = (comm/100) * sales\n",
        "  # calculate the tax\n",
        "  tax = (salary + commission) * 0.10\n",
        "  # calculate the pay\n",
        "  pay = salary + commission - tax\n",
        "\n",
        "  return commission, tax, pay # function return calculated values\n",
        "\n"
      ]
    },
    {
      "cell_type": "code",
      "source": [
        "# call the function\n",
        "calculate_pay(30000, 40000, 2.5)"
      ],
      "metadata": {
        "colab": {
          "base_uri": "https://localhost:8080/"
        },
        "id": "0vuUIdt0Egwv",
        "outputId": "a516b7bf-c060-4923-c02e-4d9cf1a2bff4"
      },
      "execution_count": 12,
      "outputs": [
        {
          "output_type": "execute_result",
          "data": {
            "text/plain": [
              "(1000.0, 3100.0, 27900.0)"
            ]
          },
          "metadata": {},
          "execution_count": 12
        }
      ]
    },
    {
      "cell_type": "code",
      "source": [
        "# capture return values in variables so later use\n",
        "\n",
        "commission, tax, pay = calculate_pay(30000, 40000, 2.5)\n",
        "\n",
        "print(commission)\n",
        "print(tax)\n",
        "print(pay)"
      ],
      "metadata": {
        "colab": {
          "base_uri": "https://localhost:8080/"
        },
        "id": "MW3AEqUmE0hv",
        "outputId": "6d05818e-17c6-4884-eeba-70314e59d194"
      },
      "execution_count": 14,
      "outputs": [
        {
          "output_type": "stream",
          "name": "stdout",
          "text": [
            "1000.0\n",
            "3100.0\n",
            "27900.0\n"
          ]
        }
      ]
    },
    {
      "cell_type": "code",
      "source": [
        "# get values for name, salary and sales from user\n",
        "\n",
        "name = input(\"Enter sales person name: \")\n",
        "salary = float(input(\"Enter salary: \"))\n",
        "sales = float(input(\"Enter sales amount: \"))\n",
        "comm = float(input(\"Enter commission rate: \"))\n",
        "\n",
        "commission, tax, pay = calculate_pay(salary, sales, comm)\n",
        "\n",
        "# print the payslip\n",
        "print(f'=== Payslip of {name} ===')\n",
        "print(f\"Salary: {salary:10} \\nCommission: {commission:} \\nTax: {tax:13}\")\n",
        "print(f\"Total pay: {pay:8}\")"
      ],
      "metadata": {
        "colab": {
          "base_uri": "https://localhost:8080/"
        },
        "id": "A6LApDpjFCiX",
        "outputId": "69fc3713-5f13-4220-c60e-84d856579fee"
      },
      "execution_count": 15,
      "outputs": [
        {
          "output_type": "stream",
          "name": "stdout",
          "text": [
            "Enter sales person name: Julie\n",
            "Enter salary: 30000\n",
            "Enter sales amount: 50000\n",
            "Enter commission rate: 2.5\n",
            "=== Payslip of Julie ===\n",
            "Salary:    30000.0 \n",
            "Commission: 1250.0 \n",
            "Tax:        3125.0\n",
            "Total pay:  28125.0\n"
          ]
        }
      ]
    }
  ],
  "metadata": {
    "colab": {
      "provenance": [],
      "include_colab_link": true
    },
    "kernelspec": {
      "display_name": "Python 3",
      "language": "python",
      "name": "python3"
    },
    "language_info": {
      "codemirror_mode": {
        "name": "ipython",
        "version": 3
      },
      "file_extension": ".py",
      "mimetype": "text/x-python",
      "name": "python",
      "nbconvert_exporter": "python",
      "pygments_lexer": "ipython3",
      "version": "3.8.8"
    }
  },
  "nbformat": 4,
  "nbformat_minor": 0
}