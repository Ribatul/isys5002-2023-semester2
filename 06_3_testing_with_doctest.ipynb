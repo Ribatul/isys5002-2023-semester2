{
  "nbformat": 4,
  "nbformat_minor": 0,
  "metadata": {
    "colab": {
      "provenance": [],
      "include_colab_link": true
    },
    "kernelspec": {
      "name": "python3",
      "display_name": "Python 3"
    },
    "language_info": {
      "name": "python"
    }
  },
  "cells": [
    {
      "cell_type": "markdown",
      "metadata": {
        "id": "view-in-github",
        "colab_type": "text"
      },
      "source": [
        "<a href=\"https://colab.research.google.com/github/isys5002-itp/isys5002-2023-semester2/blob/main/06_3_testing_with_doctest.ipynb\" target=\"_parent\"><img src=\"https://colab.research.google.com/assets/colab-badge.svg\" alt=\"Open In Colab\"/></a>"
      ]
    },
    {
      "cell_type": "markdown",
      "source": [
        "# Testing with doctest\n",
        "\n",
        "In this notebook we introduct another testing strategy using the package [doctest](https://docs.python.org/3/library/doctest.html). A Python doctest is written as though it is a comment with an example of the function and the expected output.  "
      ],
      "metadata": {
        "id": "xr1cG_-IhGrb"
      }
    },
    {
      "cell_type": "markdown",
      "source": [
        "https://www.digitalocean.com/community/tutorials/how-to-write-doctests-in-python"
      ],
      "metadata": {
        "id": "Y6-qvpk7pMUb"
      }
    },
    {
      "cell_type": "code",
      "execution_count": null,
      "metadata": {
        "id": "rguWIpskg6pf"
      },
      "outputs": [],
      "source": [
        "def add(x, y):\n",
        "    '''Add two numbers'''\n",
        "    return x + y\n",
        "\n",
        "def divide(x, y):\n",
        "    '''Divide first by second number'''\n",
        "    return x / y\n",
        "\n",
        "def multiply(x, y):\n",
        "    '''Multiple two numbers'''\n",
        "    return x * y\n",
        "\n",
        "def subtract(x, y):\n",
        "    '''Subtract two numbers'''\n",
        "    return x - y"
      ]
    },
    {
      "cell_type": "code",
      "source": [
        "# the add function\n",
        "\n",
        "def add(x, y):\n",
        "    '''Add two numbers'''\n",
        "    if ((type(x) == int or type(x) == float) and\n",
        "        (type(y) == int or type(y) == float)):\n",
        "      return x + y\n",
        "    return 'Not a number'"
      ],
      "metadata": {
        "id": "FfQto8b-1fIq"
      },
      "execution_count": 1,
      "outputs": []
    },
    {
      "cell_type": "markdown",
      "source": [
        "# Test Table\n",
        "\n",
        "We will use out test table from previous notebook.\n",
        "\n",
        "| Test # | Type    | Data     | Expected | Actual | Pass/Fail |\n",
        "|--------|---------|----------|----------|--------|-----------|\n",
        "|  1     | Valid   |0,0       | 0        |        |           |\n",
        "|  2     | Valid   |1,1       | 2        |        |           |\n",
        "|  3     | Valid   |-1,-1     | -2       |        |           |\n",
        "|  4     | Valid   |1.1,1.1   | 2.2      |        |           |\n",
        "|  5     | Valid   |-1.1,-1.1 | 2.2      |        |           |\n",
        "|  6     | Invalid |'0',0     | 'Not a number'|   |           |\n",
        "|  7     | Invalid |'One','0' | 'Not a number'|   |           |\n",
        "|  8     | Invalid |[1],[1]   | 'Not a number'|   |           |\n",
        "|  9     | Invalid |{1},{1}   | 'Not a number'|   |           |\n",
        "\n",
        "\n",
        "\n",
        "# `doctest`\n",
        "\n",
        "Documentation and testing are core components of every software development process. <br>\n",
        "> Docutest is a Python package that allows you to specify test in a functions docstring.  \n",
        "\n",
        "Let us consider the add() function.\n",
        "\n",
        "To add a test we simulate a interactive python session by calling the function after the interactive prompt ```>>>```.  The next line will contain the expected output.  The module doctest will search pieces of text within comments that look like interactive Python sessions and then build up the test case and execute the tests.\n"
      ],
      "metadata": {
        "id": "Ouf_I-wOkLW_"
      }
    },
    {
      "cell_type": "code",
      "source": [
        "import doctest #import doctest module\n",
        "\n",
        "def add(x, y):\n",
        "    '''Add two numbers\n",
        "\n",
        "    >>> add(0,0)\n",
        "    0\n",
        "    '''\n",
        "    return x + y"
      ],
      "metadata": {
        "id": "iOFin6zwj94Y"
      },
      "execution_count": 19,
      "outputs": []
    },
    {
      "cell_type": "code",
      "source": [
        "add(0,0)"
      ],
      "metadata": {
        "colab": {
          "base_uri": "https://localhost:8080/"
        },
        "id": "aKjXPUoGYiCE",
        "outputId": "f14f35e9-563c-461e-d82f-b48d4cf9733b"
      },
      "execution_count": 15,
      "outputs": [
        {
          "output_type": "execute_result",
          "data": {
            "text/plain": [
              "0"
            ]
          },
          "metadata": {},
          "execution_count": 15
        }
      ]
    },
    {
      "cell_type": "code",
      "source": [
        "# call the 'doctest.testmod()' function to run the tests\n",
        "\n",
        "doctest.testmod()"
      ],
      "metadata": {
        "id": "urKQEJyHIsnn",
        "colab": {
          "base_uri": "https://localhost:8080/"
        },
        "outputId": "ef7db18c-9e65-4933-e016-bc169efa2d50"
      },
      "execution_count": 20,
      "outputs": [
        {
          "output_type": "execute_result",
          "data": {
            "text/plain": [
              "TestResults(failed=0, attempted=1)"
            ]
          },
          "metadata": {},
          "execution_count": 20
        }
      ]
    },
    {
      "cell_type": "markdown",
      "source": [
        "The output keeps track of the number of test that faile and total tests completed. Okay, let's add more tests"
      ],
      "metadata": {
        "id": "8Ronne_wG1rR"
      }
    },
    {
      "cell_type": "code",
      "source": [
        "import doctest\n",
        "\n",
        "def add(x, y):\n",
        "    '''\n",
        "    Add two number\n",
        "\n",
        "    >>> add(20, 10)\n",
        "    30\n",
        "    >>> add(2, 3)\n",
        "    5\n",
        "    >>> add(1, 2)\n",
        "    3\n",
        "\n",
        "    '''\n",
        "    return x + y\n",
        "\n"
      ],
      "metadata": {
        "id": "ip-5bULUGjuz"
      },
      "execution_count": 23,
      "outputs": []
    },
    {
      "cell_type": "code",
      "source": [
        "doctest.testmod()"
      ],
      "metadata": {
        "id": "8K7QJd0zDNsH",
        "colab": {
          "base_uri": "https://localhost:8080/"
        },
        "outputId": "da43c352-a4ca-4181-e612-336d7bd60048"
      },
      "execution_count": 24,
      "outputs": [
        {
          "output_type": "execute_result",
          "data": {
            "text/plain": [
              "TestResults(failed=0, attempted=3)"
            ]
          },
          "metadata": {},
          "execution_count": 24
        }
      ]
    },
    {
      "cell_type": "markdown",
      "source": [
        "As in the previous notebook, lets update our add() function and write a support function to check is a argumnet is a number."
      ],
      "metadata": {
        "id": "LQyUbfeDHetW"
      }
    },
    {
      "cell_type": "code",
      "source": [
        "def isNumber(value):\n",
        "  return (type(value) == int or type(value) == float)\n",
        "    #return value"
      ],
      "metadata": {
        "id": "wLTPSKiVVopc"
      },
      "execution_count": 25,
      "outputs": []
    },
    {
      "cell_type": "code",
      "source": [
        "def add(x, y):\n",
        "    '''\n",
        "    Add two numbers which are either integer or float\n",
        "    returns the result\n",
        "\n",
        "    Examples:\n",
        "    Valide cases\n",
        "    >>> add(20, 10)\n",
        "    30\n",
        "    >>> add(2, 3)\n",
        "    5\n",
        "\n",
        "    invalid cases\n",
        "    >>> add('4', 5)\n",
        "    'Not a number'\n",
        "    >>> add(4, [5])\n",
        "    'Not a number'\n",
        "\n",
        "    '''\n",
        "\n",
        "    if isNumber(x) and isNumber(y):\n",
        "      return x + y\n",
        "    else:\n",
        "      return ('Not a number')"
      ],
      "metadata": {
        "id": "aYBNUW3cVksk"
      },
      "execution_count": 29,
      "outputs": []
    },
    {
      "cell_type": "code",
      "source": [
        "doctest.testmod()"
      ],
      "metadata": {
        "colab": {
          "base_uri": "https://localhost:8080/"
        },
        "id": "KpVr8IxUaqZj",
        "outputId": "d6a64606-02f7-4a28-defd-a3252591b2cd"
      },
      "execution_count": 30,
      "outputs": [
        {
          "output_type": "execute_result",
          "data": {
            "text/plain": [
              "TestResults(failed=0, attempted=4)"
            ]
          },
          "metadata": {},
          "execution_count": 30
        }
      ]
    },
    {
      "cell_type": "code",
      "source": [
        "help(add)"
      ],
      "metadata": {
        "colab": {
          "base_uri": "https://localhost:8080/"
        },
        "id": "b2BXDIKCaudL",
        "outputId": "fd8e4865-2634-41e6-94e2-35714017ba5a"
      },
      "execution_count": 31,
      "outputs": [
        {
          "output_type": "stream",
          "name": "stdout",
          "text": [
            "Help on function add in module __main__:\n",
            "\n",
            "add(x, y)\n",
            "    Add two numbers which are either integer or float\n",
            "    returns the result\n",
            "    \n",
            "    Examples:\n",
            "    Valide cases\n",
            "    >>> add(20, 10)\n",
            "    30\n",
            "    >>> add(2, 3)\n",
            "    5\n",
            "    \n",
            "    invalid cases\n",
            "    >>> add('4', 5)\n",
            "    'Not a number'\n",
            "    >>> add(4, [5])\n",
            "    'Not a number'\n",
            "\n"
          ]
        }
      ]
    },
    {
      "cell_type": "markdown",
      "source": [
        "Run the test again"
      ],
      "metadata": {
        "id": "Vb-y189zIhE0"
      }
    },
    {
      "cell_type": "code",
      "source": [],
      "metadata": {
        "id": "BlF3eDChIjcu"
      },
      "execution_count": null,
      "outputs": []
    },
    {
      "cell_type": "code",
      "source": [],
      "metadata": {
        "id": "ghOF4kxLIlgF"
      },
      "execution_count": null,
      "outputs": []
    }
  ]
}