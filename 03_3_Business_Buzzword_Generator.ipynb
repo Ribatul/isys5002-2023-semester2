{
  "cells": [
    {
      "cell_type": "markdown",
      "metadata": {
        "id": "view-in-github",
        "colab_type": "text"
      },
      "source": [
        "<a href=\"https://colab.research.google.com/github/isys5002-itp/isys5002-2023-semester2/blob/main/03_3_Business_Buzzword_Generator.ipynb\" target=\"_parent\"><img src=\"https://colab.research.google.com/assets/colab-badge.svg\" alt=\"Open In Colab\"/></a>"
      ]
    },
    {
      "cell_type": "markdown",
      "id": "f8b21259-c1a0-4ecb-a02f-e35565841067",
      "metadata": {
        "id": "f8b21259-c1a0-4ecb-a02f-e35565841067"
      },
      "source": [
        "# Business Buzzword Generator\n",
        "\n",
        "Lets write a real-world business application using Python. We want to write a program to genrate business phrases. The program takes three lists of words, randomly picks one word from each list, combines the words into a phrase, and then prints out the phrase. Here is the psuedocode:\n",
        "\n",
        "    importing the random module\n",
        "    make three lists, one of buzzword, one of actions, and one of outcomes\n",
        "    randomly choose one buzzword, action, and outcome from each list\n",
        "    now build the phrase by \"adding\" the words together\n",
        "    output the phrase\n",
        "    \n",
        "A good use of pseudocode is each line becomes comments in the code. Each line of pseudo code has been pasted into a cell below.  Try to implement each as python statement or statements."
      ]
    },
    {
      "cell_type": "code",
      "execution_count": 1,
      "id": "6b9a2fc6-f8ae-4778-a5e7-9659136091fd",
      "metadata": {
        "id": "6b9a2fc6-f8ae-4778-a5e7-9659136091fd"
      },
      "outputs": [],
      "source": [
        "# importing the random module\n",
        "import random"
      ]
    },
    {
      "cell_type": "code",
      "execution_count": 8,
      "id": "52db4e24-c2e3-46f2-8a96-0fece1f437f2",
      "metadata": {
        "id": "52db4e24-c2e3-46f2-8a96-0fece1f437f2"
      },
      "outputs": [],
      "source": [
        "#  make three lists, one of buzzwords, one of actions, and one of outcomes\n",
        "buzzwords = ['Sustainability', 'Freemium', 'Customer journey', 'Impact', 'Quick win']\n",
        "\n",
        "actions = ['Advocate', 'Communicate', 'Collaborate']\n",
        "\n",
        "outcomes = ['closing sales', 'social impact', 'customer experience']"
      ]
    },
    {
      "cell_type": "code",
      "execution_count": 9,
      "id": "2538b8fa-1dc9-4bfd-84d8-6753b9a88218",
      "metadata": {
        "id": "2538b8fa-1dc9-4bfd-84d8-6753b9a88218"
      },
      "outputs": [],
      "source": [
        "# randomly choose one buzzword, action, and outcome from each list\n",
        "\n",
        "buzzword = random.choice(buzzwords)\n",
        "\n",
        "action = random.choice(actions)\n",
        "\n",
        "outcome = random.choice(outcomes)\n"
      ]
    },
    {
      "cell_type": "code",
      "execution_count": 12,
      "id": "95c40fea-40d0-49e6-afe5-c181da731368",
      "metadata": {
        "id": "95c40fea-40d0-49e6-afe5-c181da731368"
      },
      "outputs": [],
      "source": [
        "# build the phrase by \"adding\" the words together\n",
        "\n",
        "business_phrase = f\"{buzzword} {action} {outcome}\""
      ]
    },
    {
      "cell_type": "code",
      "execution_count": 14,
      "id": "3e36c71d-ef4b-40d5-ac7f-a7717460e28f",
      "metadata": {
        "id": "3e36c71d-ef4b-40d5-ac7f-a7717460e28f",
        "colab": {
          "base_uri": "https://localhost:8080/"
        },
        "outputId": "0b89edd0-c8bf-4a1e-9e2a-ce8ce918c15b"
      },
      "outputs": [
        {
          "output_type": "stream",
          "name": "stdout",
          "text": [
            "Your business buzz phrase is 'Quick win Advocate closing sales'\n"
          ]
        }
      ],
      "source": [
        "# output the phrase\n",
        "\n",
        "print(f\"Your business buzz phrase is '{business_phrase}'\")"
      ]
    },
    {
      "cell_type": "code",
      "execution_count": 16,
      "id": "71838d24-05d5-44cb-ae5a-1195fd805622",
      "metadata": {
        "id": "71838d24-05d5-44cb-ae5a-1195fd805622",
        "colab": {
          "base_uri": "https://localhost:8080/"
        },
        "outputId": "a408d277-66ae-4d8b-98e6-7560fbf43ea2"
      },
      "outputs": [
        {
          "output_type": "stream",
          "name": "stdout",
          "text": [
            "Your business buzz phrase is 'Quick win Advocate closing sales'\n"
          ]
        }
      ],
      "source": [
        "# FINAL CODE\n",
        "\n",
        "# randomly choose one buzzword, action, and outcome from each list\n",
        "buzzword = random.choice(buzzwords)\n",
        "action = random.choice(actions)\n",
        "outcome = random.choice(outcomes)\n",
        "\n",
        "# build the phrase by \"adding\" the words together\n",
        "business_phrase = f\"{buzzword} {action} {outcome}\"\n",
        "\n",
        "# output the phrase\n",
        "print(f\"Your business buzz phrase is '{business_phrase}'\")"
      ]
    }
  ],
  "metadata": {
    "kernelspec": {
      "display_name": "Python 3 (ipykernel)",
      "language": "python",
      "name": "python3"
    },
    "language_info": {
      "codemirror_mode": {
        "name": "ipython",
        "version": 3
      },
      "file_extension": ".py",
      "mimetype": "text/x-python",
      "name": "python",
      "nbconvert_exporter": "python",
      "pygments_lexer": "ipython3",
      "version": "3.9.6"
    },
    "colab": {
      "provenance": [],
      "include_colab_link": true
    }
  },
  "nbformat": 4,
  "nbformat_minor": 5
}