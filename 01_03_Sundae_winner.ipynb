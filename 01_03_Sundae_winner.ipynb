{
  "nbformat": 4,
  "nbformat_minor": 0,
  "metadata": {
    "colab": {
      "provenance": [],
      "authorship_tag": "ABX9TyOLMyMRUPX47Nl9fZL2zl85",
      "include_colab_link": true
    },
    "kernelspec": {
      "name": "python3",
      "display_name": "Python 3"
    },
    "language_info": {
      "name": "python"
    }
  },
  "cells": [
    {
      "cell_type": "markdown",
      "metadata": {
        "id": "view-in-github",
        "colab_type": "text"
      },
      "source": [
        "<a href=\"https://colab.research.google.com/github/isys5002-itp/isys5002-2023-semester2/blob/main/01_03_Sundae_winner.ipynb\" target=\"_parent\"><img src=\"https://colab.research.google.com/assets/colab-badge.svg\" alt=\"Open In Colab\"/></a>"
      ]
    },
    {
      "cell_type": "markdown",
      "source": [
        "# Sundae Winner"
      ],
      "metadata": {
        "id": "fZmH2ZNhbX9V"
      }
    },
    {
      "cell_type": "code",
      "source": [
        "import random"
      ],
      "metadata": {
        "id": "bygqpuGrbxiE"
      },
      "execution_count": 3,
      "outputs": []
    },
    {
      "cell_type": "code",
      "execution_count": 1,
      "metadata": {
        "id": "mvTn5tNsbUIF"
      },
      "outputs": [],
      "source": [
        "# Make a list of customers\n",
        "customers = ['Jimmy', 'Kim', 'John', 'Stacie']"
      ]
    },
    {
      "cell_type": "code",
      "source": [
        "# randomly chooisng a customer's\n",
        "winner = random.choice(customers)"
      ],
      "metadata": {
        "id": "ZbGK3hEXbmdF"
      },
      "execution_count": 2,
      "outputs": []
    },
    {
      "cell_type": "code",
      "source": [
        "#\n",
        "flavor = 'vanilla'"
      ],
      "metadata": {
        "id": "OjFX1cu1b0V8"
      },
      "execution_count": 4,
      "outputs": []
    }
  ]
}