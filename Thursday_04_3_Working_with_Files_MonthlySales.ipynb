{
  "cells": [
    {
      "cell_type": "markdown",
      "metadata": {
        "id": "view-in-github",
        "colab_type": "text"
      },
      "source": [
        "<a href=\"https://colab.research.google.com/github/isys5002-itp/isys5002-2023-semester2/blob/main/Thursday_04_3_Working_with_Files_MonthlySales.ipynb\" target=\"_parent\"><img src=\"https://colab.research.google.com/assets/colab-badge.svg\" alt=\"Open In Colab\"/></a>"
      ]
    },
    {
      "cell_type": "markdown",
      "metadata": {
        "id": "b5IJBQVMWWWZ"
      },
      "source": [
        "# **File Input & Output**\n",
        "For program to retain data between the times it is run, you must save the data\n",
        "- Data is saved to a file, typically on computer disk\n",
        "- Saved data can be retrieved and used at a later time\n",
        "\n",
        "“***Writing data to***”: saving data on a file\n",
        "<br>***Output file***: a file that data is written to\n",
        "<br>*“**Reading data from**”*: process of retrieving data from a file\n",
        "<br>***Input file***: a file from which data is read\n",
        "\n",
        "Three steps when a program uses a file\n",
        "- Open the file\n",
        "- Process the file\n",
        "- Close the file\n",
        "\n",
        "**Types of files**\n",
        "<br>\n",
        "- A **text file** is a sequence of characters\n",
        "- A **binary file** (for images, videos and more) is a sequence of bytes\n",
        "- First character in a text file or byte in a binary file is located at position 0\n",
        "  - In a file of n characters or bytes, the highest position number is n – 1 (**end-of-file marker**)\n",
        "- For each file you **open**, Python creates a **file object** that you’ll use to interact with the file\n",
        "\n",
        "\n",
        "**Comma-separated values (CSV) file**\n",
        "- CSV files are the most common format used for importing and exporting data from spreadsheets and databases.\n",
        "- CSV files are text files that have delimiters. A delimiter is a character that separates data values.\n",
        "\n"
      ]
    },
    {
      "cell_type": "markdown",
      "source": [
        "# CSV File"
      ],
      "metadata": {
        "id": "BieUazgSLMeI"
      }
    },
    {
      "cell_type": "markdown",
      "metadata": {
        "id": "KiOs3fgB9CD8"
      },
      "source": [
        "## Reading and Writing CSV file\n",
        "\n",
        "Text files work fine when we are referencing small amounts of information, but when we use larger amounts of data, adding structure helps in organizing and retrieving values.\n",
        "\n",
        "One common format found in business and social sciences alike (as well as any field concerned with data science) is the comma-separated values (CSV) format.\n",
        "\n",
        "**CSV files** are the most common format used for importing and exporting data from spreadsheets and databases.\n",
        "\n",
        "CSV files are text files that have delimiters.  A **delimiter** is a character that separates data values.\n",
        "\n",
        "You can explore CSV files in spreadsheet software (such as Microsoft Excel), which will remove delimiters (usually commas) and store data values in separate cells.\n",
        "\n",
        "\n",
        "One of the benefits of importing data files such as CSV files is the ability to read in a lot of data at once, parsing the data so your code can access individual values within the data. **By default, CSV files use commas (“,”) to separate data values**.\n",
        "\n"
      ]
    },
    {
      "cell_type": "markdown",
      "source": [
        "Imports the built-in **`csv` module** for working with CSV (Comma Separated Values) files, which are a common file format used for storing tabular data."
      ],
      "metadata": {
        "id": "W8IeHiwhoKPV"
      }
    },
    {
      "cell_type": "code",
      "source": [
        "#import csv module\n",
        "import csv"
      ],
      "metadata": {
        "id": "HzELdjjOlqYW"
      },
      "execution_count": 8,
      "outputs": []
    },
    {
      "cell_type": "markdown",
      "source": [
        "## Writing data to file"
      ],
      "metadata": {
        "id": "gdPyuSMuGqlT"
      }
    },
    {
      "cell_type": "code",
      "source": [
        "#Writing to a CSV file\n",
        "\n",
        "#open file and write records\n",
        "with open(\"monthly_sales_data.csv\", 'w') as sales_data:\n",
        "  writer = csv.writer(sales_data) # 'writer' object write data to the CSV file opened\n",
        "\n",
        "  writer.writerow(['month', 'sales'])\n",
        "\n",
        "  #writer.writerow(['Jan', 122])\n",
        "  #writer.writerow(['Feb', 78])\n",
        "  #writer.writerow(['March', 70])\n",
        "  #writer.writerow(['April', 80])\n",
        "  #writer.writerow(['May', 178])\n",
        "  #writer.writerow(['June', 780])\n",
        "\n",
        "  # continue for Mar, Apr, May and June\n",
        "\n"
      ],
      "metadata": {
        "id": "QHHhkU2aD6hU"
      },
      "execution_count": 7,
      "outputs": []
    },
    {
      "cell_type": "markdown",
      "source": [
        "### Generalise it - User Input Storage in File\n",
        "\n",
        "Take input form user and write to file"
      ],
      "metadata": {
        "id": "4uhKJwVJGfEh"
      }
    },
    {
      "cell_type": "code",
      "source": [
        "with open(\"monthly_sales_data.csv\", 'w')  as monthly_sales:\n",
        "  writer = csv.writer(monthly_sales)\n",
        "  writer.writerow(['month', 'sales'])\n",
        "\n",
        "  # ask user for month and sales data\n",
        "  month=input(\"Enter the month\")\n",
        "  sales=input(\"Enter sales of that month\")\n",
        "\n",
        "\n",
        "\n",
        "  # write user data to file\n",
        "  writer.writerow([month, sales])\n",
        "\n"
      ],
      "metadata": {
        "id": "y9nnaTCQJABT",
        "outputId": "6b81d46b-2665-433b-ad0c-9781f63eb961",
        "colab": {
          "base_uri": "https://localhost:8080/"
        }
      },
      "execution_count": 5,
      "outputs": [
        {
          "name": "stdout",
          "output_type": "stream",
          "text": [
            "Enter the monthjan\n",
            "Enter sales of that month34\n"
          ]
        }
      ]
    },
    {
      "cell_type": "markdown",
      "source": [
        "### Dynamic Data Collection\n",
        "Modify the code to get six months sales data from user"
      ],
      "metadata": {
        "id": "66kVOTaSJUUT"
      }
    },
    {
      "cell_type": "code",
      "source": [
        "with open(\"monthly_sales_data.csv\", 'w')  as monthly_sales:\n",
        "  writer = csv.writer(monthly_sales)\n",
        "  writer.writerow(['month', 'sales'])\n",
        "  4for i in range(3):\n",
        "    month=input(\"Enter the month\")\n",
        "    sales=input(\"Enter sales of that month\")\n",
        "    writer.writerow([month, sales])\n",
        "\n",
        "  # get month & sales data for Jan - June\n",
        "\n"
      ],
      "metadata": {
        "id": "hS4CTcxiFKLU",
        "outputId": "8c0639bc-b170-468b-9bbc-551eaea74995",
        "colab": {
          "base_uri": "https://localhost:8080/"
        }
      },
      "execution_count": 10,
      "outputs": [
        {
          "name": "stdout",
          "output_type": "stream",
          "text": [
            "Enter the monthjan\n",
            "Enter sales of that month43\n",
            "Enter the monthFeb\n",
            "Enter sales of that month5\n",
            "Enter the monthMarch\n",
            "Enter sales of that month66\n"
          ]
        }
      ]
    },
    {
      "cell_type": "markdown",
      "source": [
        "## Reading data from file"
      ],
      "metadata": {
        "id": "n5ezYXDPGxMK"
      }
    },
    {
      "cell_type": "code",
      "source": [
        "with open('monthly_sales_data.csv', 'r') as monthly_sales:\n",
        "    csvreader = csv.reader(monthly_sales)\n",
        "\n",
        "    for row in csvreader:\n",
        "        print(row) # print each row in the file\n"
      ],
      "metadata": {
        "id": "Uqb_T9GyyiQ7",
        "outputId": "2fd8f077-47d8-4a71-a2b0-c0906ac6bec7",
        "colab": {
          "base_uri": "https://localhost:8080/"
        }
      },
      "execution_count": 11,
      "outputs": [
        {
          "output_type": "stream",
          "name": "stdout",
          "text": [
            "['month', 'sales']\n",
            "['jan', '43']\n",
            "['Feb', '5']\n",
            "['March', '66']\n"
          ]
        }
      ]
    },
    {
      "cell_type": "markdown",
      "source": [
        "### File Data Reading and Processing"
      ],
      "metadata": {
        "id": "88ulKsDaG2qr"
      }
    },
    {
      "cell_type": "code",
      "source": [
        "# Initialize lists to store data\n",
        "months = []\n",
        "sales = []\n",
        "\n",
        "with open('monthly_sales_data.csv', 'r') as csvfile:\n",
        "    csvreader = csv.reader(csvfile)\n",
        "    next(csvreader)  # Skip header row\n",
        "\n",
        "    for row in csvreader:\n",
        "      months.append(row[0]) # append the first column of the row to list month\n",
        "      sales.append(int(row[1]))\n",
        "\n",
        "# Calculate the average\n",
        "total_sales = sum(sales)\n",
        "num_sales = len(months)\n",
        "\n",
        "average_sales = total_sales / num_sales\n",
        "print(f\" Average sales is: {average_sales}\")\n"
      ],
      "metadata": {
        "id": "cOlKHMF_0jUq",
        "outputId": "93bd18a6-3387-4001-9b1e-31484e7c450f",
        "colab": {
          "base_uri": "https://localhost:8080/"
        }
      },
      "execution_count": 13,
      "outputs": [
        {
          "output_type": "stream",
          "name": "stdout",
          "text": [
            " Average sales is: 38.0\n"
          ]
        }
      ]
    },
    {
      "cell_type": "markdown",
      "source": [
        "### Plotting graph"
      ],
      "metadata": {
        "id": "tRGjfkR7Jm74"
      }
    },
    {
      "cell_type": "code",
      "source": [
        "import matplotlib.pyplot as plt\n",
        "\n",
        "plt.figure(figsize=(5, 4))\n",
        "plt.plot(months, sales)\n",
        "\n",
        "# Add labels and title\n",
        "plt.xlabel('Months')\n",
        "plt.ylabel('Sales')\n",
        "plt.title('Monthly Sales')\n",
        "\n",
        "# Show the plot\n",
        "plt.show()"
      ],
      "metadata": {
        "id": "fNKqKnCr03Hh",
        "outputId": "1c9301e8-fd49-49bd-9ccd-452daf6b23ef",
        "colab": {
          "base_uri": "https://localhost:8080/",
          "height": 410
        }
      },
      "execution_count": 14,
      "outputs": [
        {
          "output_type": "display_data",
          "data": {
            "text/plain": [
              "<Figure size 500x400 with 1 Axes>"
            ],
            "image/png": "[encoded data removed]"
          },
          "metadata": {}
        }
      ]
    }
  ],
  "metadata": {
    "colab": {
      "provenance": [],
      "include_colab_link": true
    },
    "kernelspec": {
      "display_name": "Python 3",
      "name": "python3"
    },
    "language_info": {
      "name": "python"
    }
  },
  "nbformat": 4,
  "nbformat_minor": 0
}